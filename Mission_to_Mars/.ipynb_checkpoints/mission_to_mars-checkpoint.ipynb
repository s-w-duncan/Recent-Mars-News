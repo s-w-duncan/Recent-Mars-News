{
 "cells": [
  {
   "cell_type": "code",
   "execution_count": 1,
   "metadata": {},
   "outputs": [],
   "source": [
    "# Declare Dependencies \n",
    "from bs4 import BeautifulSoup as bs\n",
    "from splinter import Browser\n",
    "import pandas as pd\n",
    "import os\n",
    "import time\n",
    "import requests\n",
    "import warnings\n",
    "warnings.filterwarnings('ignore')"
   ]
  },
  {
   "cell_type": "code",
   "execution_count": 2,
   "metadata": {},
   "outputs": [
    {
     "name": "stdout",
     "output_type": "stream",
     "text": [
      "/usr/local/bin/chromedriver\r\n"
     ]
    }
   ],
   "source": [
    "# Locate ChromeDriver Pathway\n",
    "!which chromedriver"
   ]
  },
  {
   "cell_type": "code",
   "execution_count": 3,
   "metadata": {},
   "outputs": [],
   "source": [
    "# Establish ChromeDriver Browser\n",
    "executable_path = {'executable_path': '/usr/local/bin/chromedriver'}\n",
    "browser = Browser('chrome', **executable_path, headless=False)"
   ]
  },
  {
   "cell_type": "markdown",
   "metadata": {},
   "source": [
    "#### NASA Mars News"
   ]
  },
  {
   "cell_type": "code",
   "execution_count": 4,
   "metadata": {},
   "outputs": [
    {
     "name": "stdout",
     "output_type": "stream",
     "text": [
      "NASA's Perseverance Rover Mission Getting in Shape for Launch\n",
      "Stacking spacecraft components on top of each other is one of the final assembly steps before a mission launches to the Red Planet. \n"
     ]
    }
   ],
   "source": [
    "# Create Link to NASA\n",
    "url_nasa = \"https://mars.nasa.gov/news/?page=0&per_page=40&order=publish_date+desc%2Ccreated_at+desc&search=&category=19%2C165%2C184%2C204&blank_scope=Latest\"\n",
    "browser.visit(url_nasa)\n",
    "html = browser.html\n",
    "\n",
    "# Parse HTML\n",
    "soup_nasa = bs(html, \"html.parser\")\n",
    "\n",
    "# Extract Article\n",
    "article_nasa = soup_nasa.find(\"div\", class_='list_text')\n",
    "title_nasa = article_nasa.find(\"div\", class_=\"content_title\").text\n",
    "teaser_nasa = article_nasa.find(\"div\", class_ =\"article_teaser_body\").text\n",
    "\n",
    "# Print\n",
    "print(title_nasa)\n",
    "print(teaser_nasa)"
   ]
  },
  {
   "cell_type": "markdown",
   "metadata": {},
   "source": [
    "#### JPL Mars Space Images - Featured Image"
   ]
  },
  {
   "cell_type": "code",
   "execution_count": 5,
   "metadata": {},
   "outputs": [
    {
     "name": "stdout",
     "output_type": "stream",
     "text": [
      "https://www.jpl.nasa.gov/spaceimages/images/largesize/PIA19343_hires.jpg\n"
     ]
    }
   ],
   "source": [
    "# Create Link to JPL\n",
    "url_JPL = \"https://www.jpl.nasa.gov/spaceimages/?search=&category=Mars\"\n",
    "browser.visit(url_JPL)\n",
    "\n",
    "# Click On 'Full Image'\n",
    "browser.click_link_by_partial_text('FULL IMAGE')\n",
    "time.sleep(5)\n",
    "\n",
    "# Click On 'More Info'\n",
    "browser.click_link_by_partial_text('more info')\n",
    "\n",
    "# Parse HTML\n",
    "html = browser.html\n",
    "image_JPL = bs(html, 'html.parser')\n",
    "\n",
    "# Scrape the URL\n",
    "url_JPL_image = image_JPL.find('figure', class_='lede').a['href']\n",
    "url_JPL_full_image = f'https://www.jpl.nasa.gov{url_JPL_image}'\n",
    "\n",
    "# Print\n",
    "print(url_JPL_full_image)"
   ]
  },
  {
   "cell_type": "markdown",
   "metadata": {},
   "source": [
    "#### Mars Weather"
   ]
  },
  {
   "cell_type": "code",
   "execution_count": 6,
   "metadata": {},
   "outputs": [
    {
     "data": {
      "text/plain": [
       "'InSight sol 517 (2020-05-10) low -92.6ºC (-134.7ºF) high 1.2ºC (34.2ºF)\\nwinds from the SW at 4.9 m/s (11.0 mph) gusting to 17.5 m/s (39.2 mph)\\npressure at 7.00 hPapic.twitter.com/wM9OaiiRhy'"
      ]
     },
     "execution_count": 6,
     "metadata": {},
     "output_type": "execute_result"
    }
   ],
   "source": [
    "# Create Link to Twitter\n",
    "url_twitter = \"https://twitter.com/marswxreport?lang=en\"\n",
    "request_twitter = requests.get(url_twitter)\n",
    "\n",
    "# Parse HTML with Beautiful Soup\n",
    "soup_twitter = bs(request_twitter.text, 'html.parser')\n",
    "\n",
    "# Iterate over Tweets to Obtain All Text\n",
    "mars_weather_tweets = [p.text for p in soup_twitter.findAll('p', class_='tweet-text')]\n",
    "\n",
    "# Pull Latest Tweet\n",
    "mars_weather = mars_weather_tweets[0]\n",
    "mars_weather"
   ]
  },
  {
   "cell_type": "markdown",
   "metadata": {},
   "source": [
    "#### Mars Facts"
   ]
  },
  {
   "cell_type": "code",
   "execution_count": 7,
   "metadata": {},
   "outputs": [],
   "source": [
    "# Create Link to Space Facts\n",
    "url_facts = 'https://space-facts.com/mars/'\n",
    "\n",
    "# Find All Tables and Pull Out Mars Information\n",
    "fact_table = pd.read_html(url_facts)\n",
    "mars_facts_df = fact_table[0]\n",
    "mars_facts_df.rename(columns={0:\"Descriptions\", 1:\"Mars\"}, inplace=True)\n",
    "mars_facts_df = mars_facts_df.set_index(\"Descriptions\")\n",
    "\n",
    "# Create HTML Table String\n",
    "html_table = mars_facts_df.to_html(classes=\"table table-striped\")"
   ]
  },
  {
   "cell_type": "markdown",
   "metadata": {},
   "source": [
    "#### Mars Hemispheres"
   ]
  },
  {
   "cell_type": "code",
   "execution_count": 8,
   "metadata": {},
   "outputs": [
    {
     "name": "stdout",
     "output_type": "stream",
     "text": [
      "[{'title': 'Cerberus Hemisphere ', 'img_url': 'http://astropedia.astrogeology.usgs.gov/download/Mars/Viking/cerberus_enhanced.tif/full.jpg'}, {'title': 'Schiaparelli Hemisphere ', 'img_url': 'http://astropedia.astrogeology.usgs.gov/download/Mars/Viking/schiaparelli_enhanced.tif/full.jpg'}, {'title': 'Syrtis Major Hemisphere ', 'img_url': 'http://astropedia.astrogeology.usgs.gov/download/Mars/Viking/syrtis_major_enhanced.tif/full.jpg'}, {'title': 'Valles Marineris Hemisphere ', 'img_url': 'http://astropedia.astrogeology.usgs.gov/download/Mars/Viking/valles_marineris_enhanced.tif/full.jpg'}]\n"
     ]
    }
   ],
   "source": [
    "# Create Link to USGS\n",
    "url_USGS = \"https://astrogeology.usgs.gov/search/results?q=hemisphere+enhanced&k1=target&v1=Mars\"\n",
    "browser.visit(url_USGS)\n",
    "html = browser.html\n",
    "\n",
    "# Parse HTML\n",
    "soup_USGS = bs(html, 'html.parser')\n",
    "\n",
    "# Create List For Images\n",
    "mars_hemisphere = []\n",
    "\n",
    "# Retrieve All Picture Code\n",
    "results = soup_USGS.find(\"div\", class_ = \"result-list\" )\n",
    "hemispheres = results.find_all(\"div\", class_=\"item\")\n",
    "\n",
    "# Iterate Through Each Hemisphere\n",
    "for hemisphere in hemispheres:\n",
    "    title = hemisphere.find(\"h3\").text\n",
    "    title = title.replace(\"Enhanced\", \"\")\n",
    "    end_link = hemisphere.find(\"a\")[\"href\"]\n",
    "    image_link = \"https://astrogeology.usgs.gov/\" + end_link    \n",
    "    browser.visit(image_link)\n",
    "    html = browser.html\n",
    "    soup = bs(html, \"html.parser\")\n",
    "    downloads = soup.find(\"div\", class_=\"downloads\")\n",
    "    image_url = downloads.find(\"a\")[\"href\"]\n",
    "    mars_hemisphere.append({\"title\": title, \"img_url\": image_url})\n",
    "\n",
    "# Print\n",
    "print(mars_hemisphere)"
   ]
  }
 ],
 "metadata": {
  "kernelspec": {
   "display_name": "Python 3.7.6 64-bit ('PythonData': conda)",
   "language": "python",
   "name": "python37664bitpythondataconda2b8880efb6d34b3eb0c55c8cee5b9b98"
  },
  "language_info": {
   "codemirror_mode": {
    "name": "ipython",
    "version": 3
   },
   "file_extension": ".py",
   "mimetype": "text/x-python",
   "name": "python",
   "nbconvert_exporter": "python",
   "pygments_lexer": "ipython3",
   "version": "3.7.6"
  }
 },
 "nbformat": 4,
 "nbformat_minor": 4
}
